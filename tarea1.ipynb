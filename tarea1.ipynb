{
 "cells": [
  {
   "cell_type": "markdown",
   "id": "0b33c9a9",
   "metadata": {},
   "source": [
    "Se importan las librerias y se leen los documentos que se entrega por el minciencia (DP1 y DP29)"
   ]
  },
  {
   "cell_type": "code",
   "execution_count": 1,
   "id": "665fd77f",
   "metadata": {},
   "outputs": [],
   "source": [
    "import pandas as pd\n",
    "import seaborn as sns\n",
    "Datos = pd.read_csv(\"https://raw.githubusercontent.com/MinCiencia/Datos-COVID19/master/output/producto29/Cuarentenas-Totales.csv\",sep=\",\")\n",
    "Poblacion = pd.read_csv(\"https://raw.githubusercontent.com/MinCiencia/Datos-COVID19/master/output/producto1/Covid-19_std.csv\",sep=\",\")"
   ]
  },
  {
   "cell_type": "markdown",
   "id": "97850d64",
   "metadata": {},
   "source": [
    "Se limpian las columnas innecesarias y se verifica el formato de las variables"
   ]
  },
  {
   "cell_type": "code",
   "execution_count": 2,
   "id": "4b4957ac",
   "metadata": {},
   "outputs": [
    {
     "name": "stdout",
     "output_type": "stream",
     "text": [
      "<class 'pandas.core.frame.DataFrame'>\n",
      "RangeIndex: 187 entries, 0 to 186\n",
      "Data columns (total 5 columns):\n",
      " #   Column             Non-Null Count  Dtype \n",
      "---  ------             --------------  ----- \n",
      " 0   Nombre             187 non-null    object\n",
      " 1   Fecha de Inicio    187 non-null    object\n",
      " 2   Fecha de Término   187 non-null    object\n",
      " 3   Código CUT Comuna  187 non-null    int64 \n",
      " 4   Region             187 non-null    int64 \n",
      "dtypes: int64(2), object(3)\n",
      "memory usage: 7.4+ KB\n"
     ]
    }
   ],
   "source": [
    "Datos1 = Datos.drop([\"ID\",\"Superficie en m2\",\"Perímetro en m\",\"Detalle\",\"n_REGION\",\"Alcance\",\"Estado\"], axis=1)\n",
    "Datos1.info()\n",
    "Datos1['Inicio'] = pd.to_datetime(Datos1['Fecha de Inicio'])\n",
    "Datos1['Fin'] = pd.to_datetime(Datos1['Fecha de Término'])\n",
    "Datos1 = Datos1.drop([\"Fecha de Inicio\",\"Fecha de Término\"], axis=1)"
   ]
  },
  {
   "cell_type": "code",
   "execution_count": 3,
   "id": "6b68f491",
   "metadata": {},
   "outputs": [
    {
     "data": {
      "text/plain": [
       "Nombre               0\n",
       "Código CUT Comuna    0\n",
       "Region               0\n",
       "Inicio               0\n",
       "Fin                  0\n",
       "dtype: int64"
      ]
     },
     "execution_count": 3,
     "metadata": {},
     "output_type": "execute_result"
    }
   ],
   "source": [
    "Datos1.isna().sum()"
   ]
  },
  {
   "cell_type": "code",
   "execution_count": 4,
   "id": "6efae186",
   "metadata": {},
   "outputs": [
    {
     "name": "stdout",
     "output_type": "stream",
     "text": [
      "<class 'pandas.core.frame.DataFrame'>\n",
      "RangeIndex: 187 entries, 0 to 186\n",
      "Data columns (total 5 columns):\n",
      " #   Column             Non-Null Count  Dtype         \n",
      "---  ------             --------------  -----         \n",
      " 0   Nombre             187 non-null    object        \n",
      " 1   Código CUT Comuna  187 non-null    int64         \n",
      " 2   Region             187 non-null    int64         \n",
      " 3   Inicio             187 non-null    datetime64[ns]\n",
      " 4   Fin                187 non-null    datetime64[ns]\n",
      "dtypes: datetime64[ns](2), int64(2), object(1)\n",
      "memory usage: 7.4+ KB\n"
     ]
    }
   ],
   "source": [
    "Datos1.info()"
   ]
  },
  {
   "cell_type": "code",
   "execution_count": 5,
   "id": "049f2c92",
   "metadata": {},
   "outputs": [
    {
     "name": "stdout",
     "output_type": "stream",
     "text": [
      "<class 'pandas.core.frame.DataFrame'>\n",
      "RangeIndex: 58644 entries, 0 to 58643\n",
      "Data columns (total 2 columns):\n",
      " #   Column         Non-Null Count  Dtype  \n",
      "---  ------         --------------  -----  \n",
      " 0   Codigo comuna  56052 non-null  float64\n",
      " 1   Poblacion      56052 non-null  float64\n",
      "dtypes: float64(2)\n",
      "memory usage: 916.4 KB\n"
     ]
    }
   ],
   "source": [
    "Poblacion1 = Poblacion.drop([\"Region\",\"Comuna\",\"Fecha\",\"Casos confirmados\",\"Codigo region\"], axis=1)\n",
    "Poblacion1.info()"
   ]
  },
  {
   "cell_type": "code",
   "execution_count": null,
   "id": "7812d322",
   "metadata": {},
   "outputs": [],
   "source": [
    "Usando ambos DP se fusionan para poder identificar las poblaciones de cada comuna respectivamente"
   ]
  },
  {
   "cell_type": "code",
   "execution_count": 6,
   "id": "2d0a1be5",
   "metadata": {},
   "outputs": [],
   "source": [
    "Poblacion1.drop_duplicates(\"Codigo comuna\")\n",
    "poblacion1 = Poblacion1.groupby(by=\"Codigo comuna\").mean()"
   ]
  },
  {
   "cell_type": "code",
   "execution_count": 7,
   "id": "23429d64",
   "metadata": {},
   "outputs": [],
   "source": [
    "Datos1 = Datos1.rename(columns = {\"Código CUT Comuna\":\"Codigo comuna\"})"
   ]
  },
  {
   "cell_type": "code",
   "execution_count": 8,
   "id": "68282b35",
   "metadata": {},
   "outputs": [],
   "source": [
    "Datos1 = Datos1.merge(poblacion1, on =\"Codigo comuna\")"
   ]
  },
  {
   "cell_type": "markdown",
   "id": "97a2d926",
   "metadata": {},
   "source": [
    "Se genera un ciclo para cada region sumando las pobaciones que se encuentran en cuarentena"
   ]
  },
  {
   "cell_type": "code",
   "execution_count": 24,
   "id": "00407c91",
   "metadata": {
    "scrolled": true
   },
   "outputs": [
    {
     "data": {
      "image/png": "[encoded data removed]",
      "text/plain": [
       "<Figure size 432x288 with 1 Axes>"
      ]
     },
     "metadata": {
      "needs_background": "light"
     },
     "output_type": "display_data"
    }
   ],
   "source": [
    "for i in range(Datos1[\"Region\"].min(),(Datos1[\"Region\"].max()+1)):\n",
    "    Datos2 = Datos1[Datos1[\"Region\"]== i]\n",
    "    Datos2 = Datos2.groupby(by=\"Inicio\").sum(\"Poblacion\")\n",
    "    sns.lineplot(x='Inicio', y='Poblacion', data=Datos2)\n",
    "    "
   ]
  },
  {
   "cell_type": "code",
   "execution_count": null,
   "id": "d838036d",
   "metadata": {},
   "outputs": [],
   "source": []
  }
 ],
 "metadata": {
  "kernelspec": {
   "display_name": "Python 3",
   "language": "python",
   "name": "python3"
  },
  "language_info": {
   "codemirror_mode": {
    "name": "ipython",
    "version": 3
   },
   "file_extension": ".py",
   "mimetype": "text/x-python",
   "name": "python",
   "nbconvert_exporter": "python",
   "pygments_lexer": "ipython3",
   "version": "3.8.8"
  }
 },
 "nbformat": 4,
 "nbformat_minor": 5
}
