{
 "cells": [
  {
   "cell_type": "raw",
   "id": "9780917e",
   "metadata": {},
   "source": [
    "Tarea 3 Jorge Farias"
   ]
  },
  {
   "cell_type": "code",
   "execution_count": 25,
   "id": "e523c3de",
   "metadata": {},
   "outputs": [],
   "source": [
    "import pandas as pd\n",
    "import seaborn as sns\n",
    "import matplotlib.pyplot as plt"
   ]
  },
  {
   "cell_type": "code",
   "execution_count": 26,
   "id": "7913fe7b",
   "metadata": {},
   "outputs": [
    {
     "name": "stderr",
     "output_type": "stream",
     "text": [
      "C:\\Users\\jorge\\anaconda3\\lib\\site-packages\\IPython\\core\\interactiveshell.py:3444: DtypeWarning: Columns (3,4) have mixed types.Specify dtype option on import or set low_memory=False.\n",
      "  exec(code_obj, self.user_global_ns, self.user_ns)\n"
     ]
    }
   ],
   "source": [
    "datos = pd.read_csv('applemobilitytrends-2021-12-08.csv',sep=',', parse_dates = True)"
   ]
  },
  {
   "cell_type": "markdown",
   "id": "b76f0d7a",
   "metadata": {},
   "source": [
    "Se Filtran por region metropolitana y se divide segun transporte"
   ]
  },
  {
   "cell_type": "code",
   "execution_count": 27,
   "id": "8ff1af55",
   "metadata": {},
   "outputs": [],
   "source": [
    "datos1 = datos[datos[\"sub-region\"]== \"Santiago Metropolitan Region\"]\n",
    "datosclean = datos1.drop([\"region\",\"geo_type\",\"alternative_name\",\"sub-region\",\"country\"], axis = 1)\n",
    "datosman = datosclean[datosclean[\"transportation_type\"]== \"driving\"]\n",
    "datoscam = datosclean[datosclean[\"transportation_type\"]== \"walking\"]"
   ]
  },
  {
   "cell_type": "markdown",
   "id": "5dc8752b",
   "metadata": {},
   "source": [
    "Se transponen los dataframes para poder graficarlos segun fecha"
   ]
  },
  {
   "cell_type": "code",
   "execution_count": 28,
   "id": "fdf9326c",
   "metadata": {},
   "outputs": [],
   "source": [
    "datosman = datosman.melt(id_vars=[\"transportation_type\"], var_name = \"fecha\", value_name = 'personas') "
   ]
  },
  {
   "cell_type": "code",
   "execution_count": 29,
   "id": "1c80a8f9",
   "metadata": {},
   "outputs": [],
   "source": [
    "datoscam = datoscam.melt(id_vars=[\"transportation_type\"], var_name = \"fecha\", value_name = 'personas') "
   ]
  },
  {
   "cell_type": "code",
   "execution_count": 31,
   "id": "101c29db",
   "metadata": {},
   "outputs": [
    {
     "data": {
      "text/html": [
       "<div>\n",
       "<style scoped>\n",
       "    .dataframe tbody tr th:only-of-type {\n",
       "        vertical-align: middle;\n",
       "    }\n",
       "\n",
       "    .dataframe tbody tr th {\n",
       "        vertical-align: top;\n",
       "    }\n",
       "\n",
       "    .dataframe thead th {\n",
       "        text-align: right;\n",
       "    }\n",
       "</style>\n",
       "<table border=\"1\" class=\"dataframe\">\n",
       "  <thead>\n",
       "    <tr style=\"text-align: right;\">\n",
       "      <th></th>\n",
       "      <th>transportation_type</th>\n",
       "      <th>fecha</th>\n",
       "      <th>personas</th>\n",
       "    </tr>\n",
       "  </thead>\n",
       "  <tbody>\n",
       "    <tr>\n",
       "      <th>0</th>\n",
       "      <td>driving</td>\n",
       "      <td>2020-01-13</td>\n",
       "      <td>100.00</td>\n",
       "    </tr>\n",
       "    <tr>\n",
       "      <th>1</th>\n",
       "      <td>driving</td>\n",
       "      <td>2020-01-14</td>\n",
       "      <td>101.96</td>\n",
       "    </tr>\n",
       "    <tr>\n",
       "      <th>2</th>\n",
       "      <td>driving</td>\n",
       "      <td>2020-01-15</td>\n",
       "      <td>105.49</td>\n",
       "    </tr>\n",
       "    <tr>\n",
       "      <th>3</th>\n",
       "      <td>driving</td>\n",
       "      <td>2020-01-16</td>\n",
       "      <td>107.92</td>\n",
       "    </tr>\n",
       "    <tr>\n",
       "      <th>4</th>\n",
       "      <td>driving</td>\n",
       "      <td>2020-01-17</td>\n",
       "      <td>120.69</td>\n",
       "    </tr>\n",
       "    <tr>\n",
       "      <th>...</th>\n",
       "      <td>...</td>\n",
       "      <td>...</td>\n",
       "      <td>...</td>\n",
       "    </tr>\n",
       "    <tr>\n",
       "      <th>691</th>\n",
       "      <td>driving</td>\n",
       "      <td>2021-12-04</td>\n",
       "      <td>134.38</td>\n",
       "    </tr>\n",
       "    <tr>\n",
       "      <th>692</th>\n",
       "      <td>driving</td>\n",
       "      <td>2021-12-05</td>\n",
       "      <td>84.19</td>\n",
       "    </tr>\n",
       "    <tr>\n",
       "      <th>693</th>\n",
       "      <td>driving</td>\n",
       "      <td>2021-12-06</td>\n",
       "      <td>115.82</td>\n",
       "    </tr>\n",
       "    <tr>\n",
       "      <th>694</th>\n",
       "      <td>driving</td>\n",
       "      <td>2021-12-07</td>\n",
       "      <td>140.95</td>\n",
       "    </tr>\n",
       "    <tr>\n",
       "      <th>695</th>\n",
       "      <td>driving</td>\n",
       "      <td>2021-12-08</td>\n",
       "      <td>94.69</td>\n",
       "    </tr>\n",
       "  </tbody>\n",
       "</table>\n",
       "<p>696 rows × 3 columns</p>\n",
       "</div>"
      ],
      "text/plain": [
       "    transportation_type       fecha  personas\n",
       "0               driving  2020-01-13    100.00\n",
       "1               driving  2020-01-14    101.96\n",
       "2               driving  2020-01-15    105.49\n",
       "3               driving  2020-01-16    107.92\n",
       "4               driving  2020-01-17    120.69\n",
       "..                  ...         ...       ...\n",
       "691             driving  2021-12-04    134.38\n",
       "692             driving  2021-12-05     84.19\n",
       "693             driving  2021-12-06    115.82\n",
       "694             driving  2021-12-07    140.95\n",
       "695             driving  2021-12-08     94.69\n",
       "\n",
       "[696 rows x 3 columns]"
      ]
     },
     "execution_count": 31,
     "metadata": {},
     "output_type": "execute_result"
    }
   ],
   "source": [
    "datosman"
   ]
  },
  {
   "cell_type": "code",
   "execution_count": 30,
   "id": "cfa3776d",
   "metadata": {},
   "outputs": [
    {
     "data": {
      "text/plain": [
       "<AxesSubplot:xlabel='fecha', ylabel='personas'>"
      ]
     },
     "execution_count": 30,
     "metadata": {},
     "output_type": "execute_result"
    },
    {
     "data": {
      "image/png": "[encoded data removed]",
      "text/plain": [
       "<Figure size 432x288 with 1 Axes>"
      ]
     },
     "metadata": {
      "needs_background": "light"
     },
     "output_type": "display_data"
    }
   ],
   "source": [
    "sns.lineplot(x=\"fecha\", y=\"personas\", data = datoscam)"
   ]
  },
  {
   "cell_type": "code",
   "execution_count": 32,
   "id": "be83c2ac",
   "metadata": {},
   "outputs": [
    {
     "data": {
      "text/plain": [
       "<AxesSubplot:xlabel='fecha', ylabel='personas'>"
      ]
     },
     "execution_count": 32,
     "metadata": {},
     "output_type": "execute_result"
    },
    {
     "data": {
      "image/png": "[encoded data removed]",
      "text/plain": [
       "<Figure size 432x288 with 1 Axes>"
      ]
     },
     "metadata": {
      "needs_background": "light"
     },
     "output_type": "display_data"
    }
   ],
   "source": [
    "sns.lineplot(x=\"fecha\", y=\"personas\", data = datosman)"
   ]
  },
  {
   "cell_type": "code",
   "execution_count": 33,
   "id": "ce3af3e6",
   "metadata": {},
   "outputs": [
    {
     "data": {
      "text/html": [
       "<div>\n",
       "<style scoped>\n",
       "    .dataframe tbody tr th:only-of-type {\n",
       "        vertical-align: middle;\n",
       "    }\n",
       "\n",
       "    .dataframe tbody tr th {\n",
       "        vertical-align: top;\n",
       "    }\n",
       "\n",
       "    .dataframe thead th {\n",
       "        text-align: right;\n",
       "    }\n",
       "</style>\n",
       "<table border=\"1\" class=\"dataframe\">\n",
       "  <thead>\n",
       "    <tr style=\"text-align: right;\">\n",
       "      <th></th>\n",
       "      <th>personas</th>\n",
       "    </tr>\n",
       "  </thead>\n",
       "  <tbody>\n",
       "    <tr>\n",
       "      <th>count</th>\n",
       "      <td>693.000000</td>\n",
       "    </tr>\n",
       "    <tr>\n",
       "      <th>mean</th>\n",
       "      <td>77.568860</td>\n",
       "    </tr>\n",
       "    <tr>\n",
       "      <th>std</th>\n",
       "      <td>29.934907</td>\n",
       "    </tr>\n",
       "    <tr>\n",
       "      <th>min</th>\n",
       "      <td>17.150000</td>\n",
       "    </tr>\n",
       "    <tr>\n",
       "      <th>25%</th>\n",
       "      <td>51.370000</td>\n",
       "    </tr>\n",
       "    <tr>\n",
       "      <th>50%</th>\n",
       "      <td>83.700000</td>\n",
       "    </tr>\n",
       "    <tr>\n",
       "      <th>75%</th>\n",
       "      <td>99.160000</td>\n",
       "    </tr>\n",
       "    <tr>\n",
       "      <th>max</th>\n",
       "      <td>208.810000</td>\n",
       "    </tr>\n",
       "  </tbody>\n",
       "</table>\n",
       "</div>"
      ],
      "text/plain": [
       "         personas\n",
       "count  693.000000\n",
       "mean    77.568860\n",
       "std     29.934907\n",
       "min     17.150000\n",
       "25%     51.370000\n",
       "50%     83.700000\n",
       "75%     99.160000\n",
       "max    208.810000"
      ]
     },
     "execution_count": 33,
     "metadata": {},
     "output_type": "execute_result"
    }
   ],
   "source": [
    "datosman.describe()"
   ]
  },
  {
   "cell_type": "code",
   "execution_count": 34,
   "id": "f116707d",
   "metadata": {},
   "outputs": [
    {
     "data": {
      "text/html": [
       "<div>\n",
       "<style scoped>\n",
       "    .dataframe tbody tr th:only-of-type {\n",
       "        vertical-align: middle;\n",
       "    }\n",
       "\n",
       "    .dataframe tbody tr th {\n",
       "        vertical-align: top;\n",
       "    }\n",
       "\n",
       "    .dataframe thead th {\n",
       "        text-align: right;\n",
       "    }\n",
       "</style>\n",
       "<table border=\"1\" class=\"dataframe\">\n",
       "  <thead>\n",
       "    <tr style=\"text-align: right;\">\n",
       "      <th></th>\n",
       "      <th>personas</th>\n",
       "    </tr>\n",
       "  </thead>\n",
       "  <tbody>\n",
       "    <tr>\n",
       "      <th>count</th>\n",
       "      <td>693.000000</td>\n",
       "    </tr>\n",
       "    <tr>\n",
       "      <th>mean</th>\n",
       "      <td>62.191472</td>\n",
       "    </tr>\n",
       "    <tr>\n",
       "      <th>std</th>\n",
       "      <td>30.636561</td>\n",
       "    </tr>\n",
       "    <tr>\n",
       "      <th>min</th>\n",
       "      <td>9.840000</td>\n",
       "    </tr>\n",
       "    <tr>\n",
       "      <th>25%</th>\n",
       "      <td>34.810000</td>\n",
       "    </tr>\n",
       "    <tr>\n",
       "      <th>50%</th>\n",
       "      <td>63.960000</td>\n",
       "    </tr>\n",
       "    <tr>\n",
       "      <th>75%</th>\n",
       "      <td>84.330000</td>\n",
       "    </tr>\n",
       "    <tr>\n",
       "      <th>max</th>\n",
       "      <td>212.830000</td>\n",
       "    </tr>\n",
       "  </tbody>\n",
       "</table>\n",
       "</div>"
      ],
      "text/plain": [
       "         personas\n",
       "count  693.000000\n",
       "mean    62.191472\n",
       "std     30.636561\n",
       "min      9.840000\n",
       "25%     34.810000\n",
       "50%     63.960000\n",
       "75%     84.330000\n",
       "max    212.830000"
      ]
     },
     "execution_count": 34,
     "metadata": {},
     "output_type": "execute_result"
    }
   ],
   "source": [
    "datoscam.describe()"
   ]
  },
  {
   "cell_type": "markdown",
   "id": "9dbdcab0",
   "metadata": {},
   "source": [
    "# Dado los graficos y las medias se puede determinar que se maneja mas en cuarentena"
   ]
  }
 ],
 "metadata": {
  "kernelspec": {
   "display_name": "Python 3 (ipykernel)",
   "language": "python",
   "name": "python3"
  },
  "language_info": {
   "codemirror_mode": {
    "name": "ipython",
    "version": 3
   },
   "file_extension": ".py",
   "mimetype": "text/x-python",
   "name": "python",
   "nbconvert_exporter": "python",
   "pygments_lexer": "ipython3",
   "version": "3.9.7"
  }
 },
 "nbformat": 4,
 "nbformat_minor": 5
}
